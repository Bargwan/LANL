{
 "cells": [
  {
   "cell_type": "code",
   "execution_count": 1,
   "metadata": {},
   "outputs": [],
   "source": [
    "# Import packages\n",
    "\n",
    "import matplotlib.mlab as mlab\n",
    "import matplotlib.pyplot as plt\n",
    "import networkx as nx\n",
    "import numpy as np\n",
    "import pandas as pd\n",
    "import seaborn as sns\n",
    "\n",
    "%matplotlib inline"
   ]
  },
  {
   "cell_type": "markdown",
   "metadata": {},
   "source": [
    "## Data summary"
   ]
  },
  {
   "cell_type": "markdown",
   "metadata": {},
   "source": [
    "This data set represents 58 consecutive days of de-identified event data collected from five sources within Los Alamos National Laboratory’s corporate, internal computer network.\n",
    "\n",
    "The data sources include Windows-based authentication events from both individual computers and centralized Active Directory domain controller servers; process start and stop events from individual Windows computers; Domain Name Service (DNS) lookups as collected on internal DNS servers; network flow data as collected on at several key router locations; and a set of well-defined red teaming events that present bad behavior within the 58 days. In total, the data set is approximately 12 gigabytes compressed across the five data elements and presents:\n",
    "\n",
    "* 1,648,275,307 events in total for: \n",
    "    * 12,425 users, \n",
    "    * 17,684 computers, and \n",
    "    * 62,974 processes. "
   ]
  },
  {
   "cell_type": "markdown",
   "metadata": {},
   "source": [
    "## Our task"
   ]
  },
  {
   "cell_type": "markdown",
   "metadata": {},
   "source": [
    "__Broad Project Scope__\n",
    "\n",
    "The LANL cyber data set contains the authentication, process, network and DNS data of a network as it is infiltrated by a red team. The dataset is designed to serve as a realistic basis for the development of data science techniques for the detection of malicious activity within an enterprise computer network. The purpose of this project is to attempt to select and if necessary implement appropriate techniques for detecting suspicious activity within the dataset. In particular, the focus of this project is to detect actions of the red team through changes in DNS activity. \n",
    "\n",
    "The two main avenues of inquiry are:\n",
    "\n",
    "1. to determine the roles of computers within the network as determinable from their DNS requests, and \n",
    "2. to identify significant changes in these roles from changes in DNS requests over the time period covered by the data set.\n",
    "\n",
    "__Project Outcomes__\n",
    "\n",
    "The deliverables for this project are:\n",
    "\n",
    "* A manual analysis of the DNS data in conjunction with other parts of the LANL data set, in particular determining if there are any clear examples of compromise within the DNS data.\n",
    "* Selection and application of a clustering technique of the DNS data to identify examples of machine role (such as server or desktop)\n",
    "* Selection and application of time series analysis of the DNS data to identify state transitions within the dataset\n",
    "* Code for the above analyses as implemented in ipython.\n",
    "* A report and presentation, identifying the approaches taken above and the results of their application to the dataset.\n",
    "* If time is remaining on the project following these analyses, further work can be undertaken combining the DNS data with other elements of the LANL dataset (authentication data, process data, etc)."
   ]
  },
  {
   "cell_type": "markdown",
   "metadata": {},
   "source": [
    "### DNS dataset"
   ]
  },
  {
   "cell_type": "markdown",
   "metadata": {},
   "source": [
    "From [https://csr.lanl.gov/data/cyber1/](https://csr.lanl.gov/data/cyber1/) - __dns.txt.gz__\n",
    "\n",
    "This data presents Domain Name Service (DNS) lookup events collected from the central DNS servers within the network. Each event is on a separate line in the form of \"time,source computer,computer resolved\" and presents a DNS lookup at the given time by the source computer for the resolved computer and represents a likely network connection originating from the source computer to the resolved computer. The values are comma delimited and any fields that do not have a valid value are presented as a question mark ('?')."
   ]
  },
  {
   "cell_type": "code",
   "execution_count": 2,
   "metadata": {},
   "outputs": [],
   "source": [
    "dns_headings = ['time','source_computer','computer_resolved']\n",
    "dns = pd.read_csv('dns.txt', names=dns_headings, sep=',')"
   ]
  },
  {
   "cell_type": "markdown",
   "metadata": {},
   "source": [
    "Example of supplied 'dns.txt' dataset"
   ]
  },
  {
   "cell_type": "code",
   "execution_count": 3,
   "metadata": {
    "scrolled": true
   },
   "outputs": [
    {
     "data": {
      "text/html": [
       "<div>\n",
       "<style>\n",
       "    .dataframe thead tr:only-child th {\n",
       "        text-align: right;\n",
       "    }\n",
       "\n",
       "    .dataframe thead th {\n",
       "        text-align: left;\n",
       "    }\n",
       "\n",
       "    .dataframe tbody tr th {\n",
       "        vertical-align: top;\n",
       "    }\n",
       "</style>\n",
       "<table border=\"1\" class=\"dataframe\">\n",
       "  <thead>\n",
       "    <tr style=\"text-align: right;\">\n",
       "      <th></th>\n",
       "      <th>time</th>\n",
       "      <th>source_computer</th>\n",
       "      <th>computer_resolved</th>\n",
       "    </tr>\n",
       "  </thead>\n",
       "  <tbody>\n",
       "    <tr>\n",
       "      <th>0</th>\n",
       "      <td>2</td>\n",
       "      <td>C4653</td>\n",
       "      <td>C5030</td>\n",
       "    </tr>\n",
       "    <tr>\n",
       "      <th>1</th>\n",
       "      <td>2</td>\n",
       "      <td>C5782</td>\n",
       "      <td>C16712</td>\n",
       "    </tr>\n",
       "    <tr>\n",
       "      <th>2</th>\n",
       "      <td>6</td>\n",
       "      <td>C1191</td>\n",
       "      <td>C419</td>\n",
       "    </tr>\n",
       "    <tr>\n",
       "      <th>3</th>\n",
       "      <td>15</td>\n",
       "      <td>C3380</td>\n",
       "      <td>C22841</td>\n",
       "    </tr>\n",
       "    <tr>\n",
       "      <th>4</th>\n",
       "      <td>18</td>\n",
       "      <td>C2436</td>\n",
       "      <td>C5030</td>\n",
       "    </tr>\n",
       "  </tbody>\n",
       "</table>\n",
       "</div>"
      ],
      "text/plain": [
       "   time source_computer computer_resolved\n",
       "0     2           C4653             C5030\n",
       "1     2           C5782            C16712\n",
       "2     6           C1191              C419\n",
       "3    15           C3380            C22841\n",
       "4    18           C2436             C5030"
      ]
     },
     "execution_count": 3,
     "metadata": {},
     "output_type": "execute_result"
    }
   ],
   "source": [
    "dns.head()"
   ]
  },
  {
   "cell_type": "markdown",
   "metadata": {},
   "source": [
    "How many logs in the dataset?"
   ]
  },
  {
   "cell_type": "code",
   "execution_count": 4,
   "metadata": {},
   "outputs": [
    {
     "data": {
      "text/plain": [
       "40821591"
      ]
     },
     "execution_count": 4,
     "metadata": {},
     "output_type": "execute_result"
    }
   ],
   "source": [
    "dns.shape[0]"
   ]
  },
  {
   "cell_type": "markdown",
   "metadata": {},
   "source": [
    "How many unique events/source computers/computers_resolved?"
   ]
  },
  {
   "cell_type": "code",
   "execution_count": 5,
   "metadata": {},
   "outputs": [
    {
     "name": "stdout",
     "output_type": "stream",
     "text": [
      "Unique timestamps: 3646743\n",
      "Unique source computers: 15013\n",
      "Unique computers resolved: 13776\n"
     ]
    }
   ],
   "source": [
    "tm_unique = dns.time.nunique()\n",
    "sc_unique = dns.source_computer.nunique()\n",
    "urc_unique = dns.computer_resolved.nunique()\n",
    "output = 'Unique timestamps: {0}\\nUnique source computers: {1}\\nUnique computers resolved: {2}'\n",
    "\n",
    "print(output.format(tm_unique,sc_unique,urc_unique))"
   ]
  },
  {
   "cell_type": "markdown",
   "metadata": {},
   "source": [
    "### Examine as time series: by minute\n",
    "\n",
    "The description says that there are 58 days of data.  The `time` variable is an integer value starting with 1.  Does this represent seconds?"
   ]
  },
  {
   "cell_type": "code",
   "execution_count": 6,
   "metadata": {},
   "outputs": [
    {
     "name": "stdout",
     "output_type": "stream",
     "text": [
      "57.9999652778\n"
     ]
    }
   ],
   "source": [
    "# Check - if this variable represents seconds, does the dataset span 58 days?\n",
    "span = max(dns.time) - min(dns.time)\n",
    "secs_in_day = 60*60*24\n",
    "days = span/secs_in_day\n",
    "print(days)"
   ]
  },
  {
   "cell_type": "markdown",
   "metadata": {},
   "source": [
    "To estimate seasonality in the time series, summarise the number of logs in each minute, hour and day."
   ]
  },
  {
   "cell_type": "code",
   "execution_count": 7,
   "metadata": {},
   "outputs": [
    {
     "data": {
      "text/html": [
       "<div>\n",
       "<style>\n",
       "    .dataframe thead tr:only-child th {\n",
       "        text-align: right;\n",
       "    }\n",
       "\n",
       "    .dataframe thead th {\n",
       "        text-align: left;\n",
       "    }\n",
       "\n",
       "    .dataframe tbody tr th {\n",
       "        vertical-align: top;\n",
       "    }\n",
       "</style>\n",
       "<table border=\"1\" class=\"dataframe\">\n",
       "  <thead>\n",
       "    <tr style=\"text-align: right;\">\n",
       "      <th></th>\n",
       "      <th>requests</th>\n",
       "      <th>minute</th>\n",
       "    </tr>\n",
       "    <tr>\n",
       "      <th>time</th>\n",
       "      <th></th>\n",
       "      <th></th>\n",
       "    </tr>\n",
       "  </thead>\n",
       "  <tbody>\n",
       "    <tr>\n",
       "      <th>(0, 60]</th>\n",
       "      <td>18</td>\n",
       "      <td>1.0</td>\n",
       "    </tr>\n",
       "    <tr>\n",
       "      <th>(60, 120]</th>\n",
       "      <td>28</td>\n",
       "      <td>2.0</td>\n",
       "    </tr>\n",
       "    <tr>\n",
       "      <th>(120, 180]</th>\n",
       "      <td>24</td>\n",
       "      <td>3.0</td>\n",
       "    </tr>\n",
       "    <tr>\n",
       "      <th>(180, 240]</th>\n",
       "      <td>24</td>\n",
       "      <td>4.0</td>\n",
       "    </tr>\n",
       "    <tr>\n",
       "      <th>(240, 300]</th>\n",
       "      <td>19</td>\n",
       "      <td>5.0</td>\n",
       "    </tr>\n",
       "  </tbody>\n",
       "</table>\n",
       "</div>"
      ],
      "text/plain": [
       "            requests minute\n",
       "time                       \n",
       "(0, 60]           18    1.0\n",
       "(60, 120]         28    2.0\n",
       "(120, 180]        24    3.0\n",
       "(180, 240]        24    4.0\n",
       "(240, 300]        19    5.0"
      ]
     },
     "execution_count": 7,
     "metadata": {},
     "output_type": "execute_result"
    }
   ],
   "source": [
    "# Group each log into minute blocks\n",
    "minute_blocks = np.arange(0,60*60*24*58,60)\n",
    "req_per_min = dns.groupby(pd.cut(dns['time'], minute_blocks))['time'].count().to_frame()\n",
    "req_per_min.columns = req_per_min.columns.str.replace('time', 'requests')\n",
    "req_per_min['minute'] = req_per_min.index\n",
    "req_per_min['minute'] = req_per_min['minute'].apply(lambda x: x.right / 60)\n",
    "\n",
    "req_per_min.head()"
   ]
  },
  {
   "cell_type": "code",
   "execution_count": 61,
   "metadata": {},
   "outputs": [
    {
     "data": {
      "image/png": "[encoded data removed]",
      "text/plain": [
       "<matplotlib.figure.Figure at 0x27591eca438>"
      ]
     },
     "metadata": {},
     "output_type": "display_data"
    }
   ],
   "source": [
    "sns.set_style(\"darkgrid\")\n",
    "\n",
    "x = list(req_per_min['minute'].values)\n",
    "y = req_per_min['requests'].values\n",
    "\n",
    "fig = plt.figure(num=1, figsize=(19, 10))\n",
    "plt.plot(x,y)\n",
    "plt.title('Change in volume of requests over time',fontsize=20)\n",
    "plt.xlabel('Minutes since start of log',fontsize=18)\n",
    "plt.ylabel('Number of requests to DNS server each minute', fontsize=18);"
   ]
  },
  {
   "cell_type": "markdown",
   "metadata": {},
   "source": [
    "### Classify computers as servers or desktops"
   ]
  },
  {
   "cell_type": "markdown",
   "metadata": {},
   "source": [
    "Create a new table where each computer is a row and the variable `incoming` indicates the number requests to the DNS server for this computer.  Computers with high numbers of incoming requests are likely to be servers."
   ]
  },
  {
   "cell_type": "code",
   "execution_count": 39,
   "metadata": {},
   "outputs": [],
   "source": [
    "inc_reqs = pd.Series.to_frame(dns.groupby('computer_resolved')['source_computer'].count().sort_values(ascending=False))\n",
    "inc_reqs = inc_reqs.reset_index()\n",
    "inc_reqs.columns = inc_reqs.columns.str.replace('source_computer', 'incoming_requests')"
   ]
  },
  {
   "cell_type": "code",
   "execution_count": 40,
   "metadata": {},
   "outputs": [
    {
     "data": {
      "text/html": [
       "<div>\n",
       "<style>\n",
       "    .dataframe thead tr:only-child th {\n",
       "        text-align: right;\n",
       "    }\n",
       "\n",
       "    .dataframe thead th {\n",
       "        text-align: left;\n",
       "    }\n",
       "\n",
       "    .dataframe tbody tr th {\n",
       "        vertical-align: top;\n",
       "    }\n",
       "</style>\n",
       "<table border=\"1\" class=\"dataframe\">\n",
       "  <thead>\n",
       "    <tr style=\"text-align: right;\">\n",
       "      <th></th>\n",
       "      <th>computer_resolved</th>\n",
       "      <th>incoming_requests</th>\n",
       "    </tr>\n",
       "  </thead>\n",
       "  <tbody>\n",
       "    <tr>\n",
       "      <th>0</th>\n",
       "      <td>C1707</td>\n",
       "      <td>5374369</td>\n",
       "    </tr>\n",
       "    <tr>\n",
       "      <th>1</th>\n",
       "      <td>C1685</td>\n",
       "      <td>5224450</td>\n",
       "    </tr>\n",
       "    <tr>\n",
       "      <th>2</th>\n",
       "      <td>C5030</td>\n",
       "      <td>4658033</td>\n",
       "    </tr>\n",
       "    <tr>\n",
       "      <th>3</th>\n",
       "      <td>C586</td>\n",
       "      <td>4489267</td>\n",
       "    </tr>\n",
       "    <tr>\n",
       "      <th>4</th>\n",
       "      <td>C754</td>\n",
       "      <td>2417026</td>\n",
       "    </tr>\n",
       "  </tbody>\n",
       "</table>\n",
       "</div>"
      ],
      "text/plain": [
       "  computer_resolved  incoming_requests\n",
       "0             C1707            5374369\n",
       "1             C1685            5224450\n",
       "2             C5030            4658033\n",
       "3              C586            4489267\n",
       "4              C754            2417026"
      ]
     },
     "execution_count": 40,
     "metadata": {},
     "output_type": "execute_result"
    }
   ],
   "source": [
    "inc_reqs.head()"
   ]
  },
  {
   "cell_type": "markdown",
   "metadata": {},
   "source": [
    "View the distribution of incoming requests for the top 50 computers"
   ]
  },
  {
   "cell_type": "code",
   "execution_count": 75,
   "metadata": {},
   "outputs": [
    {
     "data": {
      "image/png": "[encoded data removed]",
      "text/plain": [
       "<matplotlib.figure.Figure at 0x275928f2358>"
      ]
     },
     "metadata": {},
     "output_type": "display_data"
    }
   ],
   "source": [
    "sns.set_style(\"darkgrid\")\n",
    "\n",
    "top_n = 50 # Change to view a larger or smaller number of top_n computers\n",
    "title_label = 'Number of incoming requests by computer: Top ' + str(top_n)\n",
    "\n",
    "computers = inc_reqs['computer_resolved'][0:top_n]\n",
    "y_pos = np.arange(len(computers))\n",
    "inc_req = inc_reqs['incoming_requests'][0:top_n]\n",
    "\n",
    "fig2 = plt.figure(num=2, figsize=(20,10))\n",
    "plt.bar(y_pos, inc_req, align='center', alpha=0.5)\n",
    "plt.xticks(y_pos, computers)\n",
    "plt.xticks(rotation=90)\n",
    "plt.ylabel('Number of incoming requests',fontsize=18)\n",
    "plt.title(title_label,fontsize=20);"
   ]
  },
  {
   "cell_type": "markdown",
   "metadata": {},
   "source": [
    "Ranked by incoming traffic, the first four computers appear to have similarly high usage, followed by the next three, then the next 9."
   ]
  },
  {
   "cell_type": "markdown",
   "metadata": {},
   "source": [
    "__Create directed graph from log__\n",
    "\n",
    "One way to interpret the dataset as a graph using the NetworkX package - documentation in pdf format [here](https://networkx.github.io/).\n",
    "\n",
    "With this data structure:\n",
    "\n",
    "* Each computer (whether `source_computer` or `computer_resolved`) is a node;\n",
    "* Each lookup request, represented by one row in the table, is a directed edge;\n",
    "* The time of each lookup request is recorded as an attribute of the edge."
   ]
  },
  {
   "cell_type": "code",
   "execution_count": null,
   "metadata": {},
   "outputs": [],
   "source": [
    "# This takes a while - 2-3 minutes on my desktop (i5, 3.50GHz, 4-core, 32GB memory)\n",
    "%%time\n",
    "dns_graph = nx.MultiDiGraph()\n",
    "dns_graph.add_weighted_edges_from([tuple(d) for d in dns[['source_computer','computer_resolved','time']].values])       "
   ]
  },
  {
   "cell_type": "code",
   "execution_count": null,
   "metadata": {},
   "outputs": [],
   "source": []
  },
  {
   "cell_type": "code",
   "execution_count": null,
   "metadata": {},
   "outputs": [],
   "source": [
    "type(dns_graph)"
   ]
  },
  {
   "cell_type": "code",
   "execution_count": null,
   "metadata": {},
   "outputs": [],
   "source": [
    "dns_graph.in_edges()"
   ]
  },
  {
   "cell_type": "code",
   "execution_count": null,
   "metadata": {},
   "outputs": [],
   "source": [
    "help(\"networkx.edges_iter\")"
   ]
  },
  {
   "cell_type": "code",
   "execution_count": null,
   "metadata": {},
   "outputs": [],
   "source": [
    "%%time\n",
    "dns_graph.edges(data=True)[0:5]"
   ]
  },
  {
   "cell_type": "markdown",
   "metadata": {},
   "source": [
    "Using this format, all requests to and from each computer in a particular timeframe can be visualised.  \n",
    "\n",
    "In the example plot below, all interactions in the first 5 minutes of the database are visualised."
   ]
  },
  {
   "cell_type": "code",
   "execution_count": null,
   "metadata": {},
   "outputs": [],
   "source": [
    "def betw_tm(graph,start,stop):\n",
    "    edges = graph.edges(data=True)\n",
    "    return [i for i in edges if start <= i[2]['weight'] <= stop]"
   ]
  },
  {
   "cell_type": "code",
   "execution_count": null,
   "metadata": {},
   "outputs": [],
   "source": [
    "%%time\n",
    "first_5_min = betw_tm(dns_graph,0,5*60)"
   ]
  },
  {
   "cell_type": "code",
   "execution_count": null,
   "metadata": {},
   "outputs": [],
   "source": [
    "%pylab inline\n",
    "\n",
    "#pylab.rcParams['figure.figsize'] = (18, 18)\n",
    "#nx.draw_networkx(first_5_min, arrows=True, alpha=0.15)"
   ]
  },
  {
   "cell_type": "markdown",
   "metadata": {},
   "source": [
    "Following Siadati, Saket & Memon (2016) below, it may be useful to classify computers as desktops and servers based on the level of inbound requests they receive."
   ]
  },
  {
   "cell_type": "markdown",
   "metadata": {
    "collapsed": true
   },
   "source": [
    "## Redteam dataset"
   ]
  },
  {
   "cell_type": "markdown",
   "metadata": {},
   "source": [
    "Also from [https://csr.lanl.gov/data/cyber1/](https://csr.lanl.gov/data/cyber1/) - __readteam.txt.gz__ This data presents specific events taken from the authentication data that present known redteam compromise events. These may be used as ground truth of bad behavior that is different from normal user and computer activity. Each event is on a separate line in the form of \"time,user@domain,source computer,destination computer\" and presents a compromise event at the given time. The values are comma delimited."
   ]
  },
  {
   "cell_type": "code",
   "execution_count": null,
   "metadata": {},
   "outputs": [],
   "source": [
    "# Import dataset\n",
    "rt_headings = ['time','user@domain','source_computer','destination_computer']\n",
    "redteam = pd.read_csv('redteam.txt.gz', compression='gzip', names=rt_headings, sep=',')"
   ]
  },
  {
   "cell_type": "markdown",
   "metadata": {},
   "source": [
    "How many rows in this log?"
   ]
  },
  {
   "cell_type": "code",
   "execution_count": null,
   "metadata": {},
   "outputs": [],
   "source": [
    "redteam.shape[0]"
   ]
  },
  {
   "cell_type": "code",
   "execution_count": null,
   "metadata": {},
   "outputs": [],
   "source": [
    "# SHow example\n",
    "redteam.head()"
   ]
  },
  {
   "cell_type": "markdown",
   "metadata": {},
   "source": [
    "Create a new variable in the dns log to identify if the `source_computer` for that event appears in the the redteam log"
   ]
  },
  {
   "cell_type": "code",
   "execution_count": null,
   "metadata": {},
   "outputs": [],
   "source": [
    "dns['in_redteam'] = dns.computer_resolved.isin(redteam.source_computer)"
   ]
  },
  {
   "cell_type": "markdown",
   "metadata": {},
   "source": [
    "How many logs include the source computer named in the redteam log?"
   ]
  },
  {
   "cell_type": "code",
   "execution_count": null,
   "metadata": {},
   "outputs": [],
   "source": [
    "len(dns[dns.in_redteam == True])"
   ]
  },
  {
   "cell_type": "markdown",
   "metadata": {},
   "source": [
    "It would also be interesting to view this dataset as a directed graph"
   ]
  },
  {
   "cell_type": "code",
   "execution_count": null,
   "metadata": {},
   "outputs": [],
   "source": [
    "rt_graph = nx.MultiDiGraph()\n",
    "rt_graph.add_weighted_edges_from([tuple(d) for d in redteam[['source_computer','destination_computer','time']].values])  "
   ]
  },
  {
   "cell_type": "code",
   "execution_count": null,
   "metadata": {},
   "outputs": [],
   "source": [
    "%pylab inline\n",
    "\n",
    "pylab.rcParams['figure.figsize'] = (18, 18)\n",
    "\n",
    "nx.draw_networkx(rt_graph, arrows=True, alpha=0.15)"
   ]
  },
  {
   "cell_type": "code",
   "execution_count": null,
   "metadata": {},
   "outputs": [],
   "source": [
    "type(rt_graph)"
   ]
  },
  {
   "cell_type": "code",
   "execution_count": null,
   "metadata": {},
   "outputs": [],
   "source": [
    "for u,v,d in rt_graph.edges(data=True):\n",
    "    d['label'] = d.get('weight','')\n",
    "    \n",
    "A = pydot.graph_from_edges(rt_graph)\n",
    "A.layout(prog='dot')\n",
    "A.draw('test.png')"
   ]
  },
  {
   "cell_type": "code",
   "execution_count": null,
   "metadata": {},
   "outputs": [],
   "source": []
  },
  {
   "cell_type": "code",
   "execution_count": null,
   "metadata": {},
   "outputs": [],
   "source": [
    "rt_graph = nx.DiGraph() # This probably needs to be a MultiDiGraph to allow multiple timestamps\n",
    "rt_graph = nx.from_pandas_dataframe(redteam,'source_computer','destination_computer',edge_attr='time',create_using=rt_graph)"
   ]
  },
  {
   "cell_type": "code",
   "execution_count": null,
   "metadata": {},
   "outputs": [],
   "source": [
    "rt_graph.get_edge_data(\"C17693\",\"C1003\")"
   ]
  },
  {
   "cell_type": "code",
   "execution_count": null,
   "metadata": {},
   "outputs": [],
   "source": [
    "%pylab inline\n",
    "\n",
    "pylab.rcParams['figure.figsize'] = (18, 18)\n",
    "\n",
    "nx.draw_networkx(rt_graph, arrows=True, alpha=0.15)"
   ]
  },
  {
   "cell_type": "markdown",
   "metadata": {},
   "source": [
    "One interpretation of the plot above is that C17693,C18025 and C19932 were infiltrated.  Using this access, credentials for C19932 were obtained. Using access to C19932, root access to the server (C17693) was obtained through C586, C529 or C625.\n",
    "\n",
    "Another attempted infiltration, via C1493 and/or C18025 was unsuccessful."
   ]
  },
  {
   "cell_type": "markdown",
   "metadata": {},
   "source": [
    "## Ideas from literature"
   ]
  },
  {
   "cell_type": "markdown",
   "metadata": {},
   "source": [
    "__Siadati, Saket & Memon (2016) \"Detecting malicious logins in enterprise networks using visualization\"__\n",
    "\n",
    "* Partition the logins into days and compute the summary of login events - groupby [user,source,destination].count() for each day\n",
    "* Use the login events that happen more than 10% of the days to form a model which helps track changes in network structure\n",
    "* Classify computers into 'global-server', 'local-server' and 'desktop' based on how frequently they are the destination of logins\n",
    "* After this\n",
    "    * desktop-to-desktop connections are suspicious\n",
    "    * find anomalous logins based on unusual times, frequencies and high rates of login failures"
   ]
  },
  {
   "cell_type": "code",
   "execution_count": null,
   "metadata": {},
   "outputs": [],
   "source": []
  },
  {
   "cell_type": "markdown",
   "metadata": {},
   "source": [
    "__Heard & Rubin-Delanchy (2016)__ \"Network-wide anomaly detection via the Dirichlet process\"\n",
    "\n",
    "* "
   ]
  }
 ],
 "metadata": {
  "kernelspec": {
   "display_name": "Python 3",
   "language": "python",
   "name": "python3"
  },
  "language_info": {
   "codemirror_mode": {
    "name": "ipython",
    "version": 3
   },
   "file_extension": ".py",
   "mimetype": "text/x-python",
   "name": "python",
   "nbconvert_exporter": "python",
   "pygments_lexer": "ipython3",
   "version": "3.5.4"
  }
 },
 "nbformat": 4,
 "nbformat_minor": 2
}

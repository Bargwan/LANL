{
 "cells": [
  {
   "cell_type": "code",
   "execution_count": 71,
   "metadata": {},
   "outputs": [],
   "source": [
    "import ast\n",
    "import pandas as pd\n",
    "import os"
   ]
  },
  {
   "cell_type": "code",
   "execution_count": 2,
   "metadata": {},
   "outputs": [],
   "source": [
    "# Empty dictionary to hold unique triples and their timestamps\n",
    "first_auth = {}"
   ]
  },
  {
   "cell_type": "code",
   "execution_count": 3,
   "metadata": {},
   "outputs": [],
   "source": [
    "# Creates a generator object to iterate through the file in reverse order\n",
    "# from srohde, here: https://stackoverflow.com/questions/2301789/read-a-file-in-reverse-order-using-python\n",
    "\n",
    "def reverse_readline(filename, buf_size=8192):\n",
    "    \"\"\"a generator that returns the lines of a file in reverse order\"\"\"\n",
    "    with open(filename) as fh:\n",
    "        segment = None\n",
    "        offset = 0\n",
    "        fh.seek(0, os.SEEK_END)\n",
    "        file_size = remaining_size = fh.tell()\n",
    "        while remaining_size > 0:\n",
    "            offset = min(file_size, offset + buf_size)\n",
    "            fh.seek(file_size - offset)\n",
    "            buffer = fh.read(min(remaining_size, buf_size))\n",
    "            remaining_size -= buf_size\n",
    "            lines = buffer.split('\\n')\n",
    "            # the first line of the buffer is probably not a complete line so\n",
    "            # we'll save it and append it to the last line of the next buffer\n",
    "            # we read\n",
    "            if segment is not None:\n",
    "                # if the previous chunk starts right from the beginning of line\n",
    "                # do not concact the segment to the last line of new chunk\n",
    "                # instead, yield the segment first \n",
    "                if buffer[-1] is not '\\n':\n",
    "                    lines[-1] += segment\n",
    "                else:\n",
    "                    yield segment\n",
    "            segment = lines[0]\n",
    "            for index in range(len(lines) - 1, 0, -1):\n",
    "                if len(lines[index]):\n",
    "                    yield lines[index]\n",
    "        # Don't yield None if the file was empty\n",
    "        if segment is not None:\n",
    "            yield segment"
   ]
  },
  {
   "cell_type": "code",
   "execution_count": 4,
   "metadata": {},
   "outputs": [
    {
     "name": "stdout",
     "output_type": "stream",
     "text": [
      "Wall time: 56min 52s\n"
     ]
    }
   ],
   "source": [
    "%%time\n",
    "# Since the data are ordered by time, this code loops backward through auth.txt\n",
    "#\n",
    "# The time, source_user@domain, source_computer, and destination_computer values\n",
    "# are read on each row.  A dictionary (first_auth) is populated with the results\n",
    "# where the triple (source_user@domain,source_computer,destination) is the key\n",
    "# and the timestamp is the value.  The triple is a string of a list.\n",
    "#\n",
    "# Since a dictionary's keys need to be unique, when a duplicate triple is introduced\n",
    "# to the dictionary, the timestamp is replaced.  At the end of the program\n",
    "# the first timestamp for each unique triple should remain, since each event is introduced\n",
    "# in reverse chronological order.\n",
    "\n",
    "retain_index = [(0,2),(3,5)] # Index for time, source_user@domain, source_computer, destination_computer only \n",
    "\n",
    "for i in reverse_readline(\"auth.txt\"):    \n",
    "    triple = [item for start, end in retain_index for item in i.split(',')[start:end]]\n",
    "    first_auth[repr(triple[1:])] = triple[0]"
   ]
  },
  {
   "cell_type": "code",
   "execution_count": 5,
   "metadata": {},
   "outputs": [
    {
     "data": {
      "text/plain": [
       "1629247"
      ]
     },
     "execution_count": 5,
     "metadata": {},
     "output_type": "execute_result"
    }
   ],
   "source": [
    "len(first_auth)"
   ]
  },
  {
   "cell_type": "code",
   "execution_count": 111,
   "metadata": {},
   "outputs": [],
   "source": [
    "first_auth_df = pd.DataFrame.from_dict(first_auth,orient='index') # Creata DF from dictionary\n",
    "first_auth_df = first_auth_df.reset_index(level=0,inplace=False) # Move the index to a column\n",
    "first_auth_df['index'] = first_auth_df['index'].apply(lambda x: ast.literal_eval(x)) # Convert from string to list\n",
    "first_auth_df = pd.concat([first_auth_df, pd.DataFrame(columns=['user','source','dest'])], axis=1) # Add new columns\n",
    "first_auth_df.user, first_auth_df.source, first_auth_df.dest = zip(*first_auth_df['index']) # Populate them\n",
    "del first_auth_df['index'] # Remove 'index' column\n",
    "first_auth_df.columns = ['time','source_user','source_computer','destination_computer'] # Rename columns\n",
    "first_auth_df['time'] = first_auth_df['time'].astype(int) # Change the time values from strings to integers\n",
    "first_auth_df = first_auth_df.sort_values('time') # Sort by ascending time values\n",
    "first_auth_df = first_auth_df.reset_index(drop=True)"
   ]
  },
  {
   "cell_type": "code",
   "execution_count": 114,
   "metadata": {},
   "outputs": [
    {
     "data": {
      "text/html": [
       "<div>\n",
       "<style scoped>\n",
       "    .dataframe tbody tr th:only-of-type {\n",
       "        vertical-align: middle;\n",
       "    }\n",
       "\n",
       "    .dataframe tbody tr th {\n",
       "        vertical-align: top;\n",
       "    }\n",
       "\n",
       "    .dataframe thead th {\n",
       "        text-align: right;\n",
       "    }\n",
       "</style>\n",
       "<table border=\"1\" class=\"dataframe\">\n",
       "  <thead>\n",
       "    <tr style=\"text-align: right;\">\n",
       "      <th></th>\n",
       "      <th>time</th>\n",
       "      <th>source_user</th>\n",
       "      <th>source_computer</th>\n",
       "      <th>destination_computer</th>\n",
       "    </tr>\n",
       "  </thead>\n",
       "  <tbody>\n",
       "    <tr>\n",
       "      <th>0</th>\n",
       "      <td>1</td>\n",
       "      <td>C625$@DOM1</td>\n",
       "      <td>C2052</td>\n",
       "      <td>C625</td>\n",
       "    </tr>\n",
       "    <tr>\n",
       "      <th>1</th>\n",
       "      <td>1</td>\n",
       "      <td>C1678$@DOM1</td>\n",
       "      <td>C625</td>\n",
       "      <td>C625</td>\n",
       "    </tr>\n",
       "    <tr>\n",
       "      <th>2</th>\n",
       "      <td>1</td>\n",
       "      <td>C1678$@DOM1</td>\n",
       "      <td>C1065</td>\n",
       "      <td>C1065</td>\n",
       "    </tr>\n",
       "    <tr>\n",
       "      <th>3</th>\n",
       "      <td>1</td>\n",
       "      <td>C922$@DOM1</td>\n",
       "      <td>C586</td>\n",
       "      <td>C586</td>\n",
       "    </tr>\n",
       "    <tr>\n",
       "      <th>4</th>\n",
       "      <td>1</td>\n",
       "      <td>C1678$@DOM1</td>\n",
       "      <td>C457</td>\n",
       "      <td>C457</td>\n",
       "    </tr>\n",
       "  </tbody>\n",
       "</table>\n",
       "</div>"
      ],
      "text/plain": [
       "   time  source_user source_computer destination_computer\n",
       "0     1   C625$@DOM1           C2052                 C625\n",
       "1     1  C1678$@DOM1            C625                 C625\n",
       "2     1  C1678$@DOM1           C1065                C1065\n",
       "3     1   C922$@DOM1            C586                 C586\n",
       "4     1  C1678$@DOM1            C457                 C457"
      ]
     },
     "execution_count": 114,
     "metadata": {},
     "output_type": "execute_result"
    }
   ],
   "source": [
    "first_auth_df.head()"
   ]
  },
  {
   "cell_type": "code",
   "execution_count": 115,
   "metadata": {},
   "outputs": [
    {
     "data": {
      "text/html": [
       "<div>\n",
       "<style scoped>\n",
       "    .dataframe tbody tr th:only-of-type {\n",
       "        vertical-align: middle;\n",
       "    }\n",
       "\n",
       "    .dataframe tbody tr th {\n",
       "        vertical-align: top;\n",
       "    }\n",
       "\n",
       "    .dataframe thead th {\n",
       "        text-align: right;\n",
       "    }\n",
       "</style>\n",
       "<table border=\"1\" class=\"dataframe\">\n",
       "  <thead>\n",
       "    <tr style=\"text-align: right;\">\n",
       "      <th></th>\n",
       "      <th>time</th>\n",
       "      <th>source_user</th>\n",
       "      <th>source_computer</th>\n",
       "      <th>destination_computer</th>\n",
       "    </tr>\n",
       "  </thead>\n",
       "  <tbody>\n",
       "    <tr>\n",
       "      <th>1629242</th>\n",
       "      <td>5010104</td>\n",
       "      <td>U9424@DOM1</td>\n",
       "      <td>C15753</td>\n",
       "      <td>C612</td>\n",
       "    </tr>\n",
       "    <tr>\n",
       "      <th>1629243</th>\n",
       "      <td>5010259</td>\n",
       "      <td>U8224@DOM1</td>\n",
       "      <td>C1385</td>\n",
       "      <td>C2327</td>\n",
       "    </tr>\n",
       "    <tr>\n",
       "      <th>1629244</th>\n",
       "      <td>5010626</td>\n",
       "      <td>U747@DOM1</td>\n",
       "      <td>C5785</td>\n",
       "      <td>C743</td>\n",
       "    </tr>\n",
       "    <tr>\n",
       "      <th>1629245</th>\n",
       "      <td>5010835</td>\n",
       "      <td>U8500@DOM1</td>\n",
       "      <td>C1128</td>\n",
       "      <td>C529</td>\n",
       "    </tr>\n",
       "    <tr>\n",
       "      <th>1629246</th>\n",
       "      <td>5010890</td>\n",
       "      <td>U8500@DOM1</td>\n",
       "      <td>C1128</td>\n",
       "      <td>C457</td>\n",
       "    </tr>\n",
       "  </tbody>\n",
       "</table>\n",
       "</div>"
      ],
      "text/plain": [
       "            time source_user source_computer destination_computer\n",
       "1629242  5010104  U9424@DOM1          C15753                 C612\n",
       "1629243  5010259  U8224@DOM1           C1385                C2327\n",
       "1629244  5010626   U747@DOM1           C5785                 C743\n",
       "1629245  5010835  U8500@DOM1           C1128                 C529\n",
       "1629246  5010890  U8500@DOM1           C1128                 C457"
      ]
     },
     "execution_count": 115,
     "metadata": {},
     "output_type": "execute_result"
    }
   ],
   "source": [
    "first_auth_df.tail()"
   ]
  },
  {
   "cell_type": "code",
   "execution_count": 116,
   "metadata": {},
   "outputs": [],
   "source": [
    "# Save file\n",
    "first_auth_df.to_csv('first_auth.txt',header=None,sep=',')"
   ]
  }
 ],
 "metadata": {
  "kernelspec": {
   "display_name": "Python 3",
   "language": "python",
   "name": "python3"
  },
  "language_info": {
   "codemirror_mode": {
    "name": "ipython",
    "version": 3
   },
   "file_extension": ".py",
   "mimetype": "text/x-python",
   "name": "python",
   "nbconvert_exporter": "python",
   "pygments_lexer": "ipython3",
   "version": "3.6.4"
  }
 },
 "nbformat": 4,
 "nbformat_minor": 2
}

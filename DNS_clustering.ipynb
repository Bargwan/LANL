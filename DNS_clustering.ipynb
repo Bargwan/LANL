{
 "cells": [
  {
   "cell_type": "markdown",
   "metadata": {
    "deletable": true,
    "editable": true
   },
   "source": [
    "\n",
    "<h1><center>DCM Tutorial</h1></center>\n",
    "\n",
    "This is a basic example of how to use the DNS clustering module (DCM)."
   ]
  },
  {
   "cell_type": "code",
   "execution_count": 1,
   "metadata": {
    "collapsed": false,
    "deletable": true,
    "editable": true
   },
   "outputs": [],
   "source": [
    "import pandas as pd\n",
    "import os\n",
    "import dcm\n",
    "import math\n",
    "\n",
    "%matplotlib inline\n",
    "\n",
    "path=\"F:\\\\Masters degree\\\\Capstone Project\\\\data\"\n",
    "os.chdir(path)\n",
    "\n",
    "dns_headings = ['time','source_computer','computer_resolved']\n",
    "dns = pd.read_csv('dns.txt', sep=',', header=None, names=dns_headings)"
   ]
  },
  {
   "cell_type": "markdown",
   "metadata": {
    "deletable": true,
    "editable": true
   },
   "source": [
    "First we will cluster the entire dataset using only the total number of connections for the top 50 resolved computers.\n",
    "\n",
    "The result is in the form of a dictionary containing a single key: 'Window_1'. The corresponding value is a list of the top 50 resolved computers, along with the clustering results."
   ]
  },
  {
   "cell_type": "code",
   "execution_count": 3,
   "metadata": {
    "collapsed": false,
    "deletable": true,
    "editable": true
   },
   "outputs": [],
   "source": [
    "cluster_all_data=dcm.SlidingWindow(dns)\n",
    "top50_resolved_computers, clustering_results=cluster_all_data['Window_1']"
   ]
  },
  {
   "cell_type": "markdown",
   "metadata": {
    "collapsed": true,
    "deletable": true,
    "editable": true
   },
   "source": [
    "From the clustering results, we can obtain the cluster labels for each of the listed computers, in addition to the cluster centers."
   ]
  },
  {
   "cell_type": "code",
   "execution_count": 5,
   "metadata": {
    "collapsed": false,
    "deletable": true,
    "editable": true
   },
   "outputs": [
    {
     "name": "stdout",
     "output_type": "stream",
     "text": [
      "Top 10 resolved computers:\n",
      "40     C586\n",
      "7     C1707\n",
      "6     C1685\n",
      "29    C5030\n",
      "47     C754\n",
      "1     C1025\n",
      "45     C706\n",
      "2     C1065\n",
      "14    C2189\n",
      "27     C457\n",
      "Name: computer_resolved, dtype: object\n",
      "Labels:\n",
      "[1 1 1 1 2 2 2 2 2 2]\n",
      "Cluster centers:\n",
      "[[-0.53554605]\n",
      " [ 2.82316459]\n",
      " [ 0.57632562]]\n"
     ]
    }
   ],
   "source": [
    "print(\"Top 10 resolved computers:\")\n",
    "print(top50_resolved_computers[0:10])\n",
    "\n",
    "labels=clustering_results.labels_\n",
    "print(\"Labels:\")\n",
    "print(labels[0:10])\n",
    "\n",
    "cluster_centers=clustering_results.cluster_centers_\n",
    "print(\"Cluster centers:\")\n",
    "print(cluster_centers)"
   ]
  },
  {
   "cell_type": "markdown",
   "metadata": {
    "collapsed": true,
    "deletable": true,
    "editable": true
   },
   "source": [
    "By playing with window_size and stride, we can choose instead to cluster disjoint subsets of the data, or overlapping subsets of the data.\n",
    "\n",
    "The data timestamps range from 0 to 5011199. 5011199 is also the default window size. Hence the default settings (above) result in a single window - essentially performing a single cluster analysis over the entire range of time. To do an analysis on 2 equally sized, disjoint sets of the data (i.e. we split the data in half and cluster each portion), set window_size=floor(5011199/2) and set stride=floor(5011199/2). You need to manually determine the values of window_size and stride yourself, depending on the result you want."
   ]
  },
  {
   "cell_type": "code",
   "execution_count": 4,
   "metadata": {
    "collapsed": true,
    "deletable": true,
    "editable": true
   },
   "outputs": [],
   "source": [
    "cluster_all_data=dcm.SlidingWindow(dns, window_size=math.floor(5011199/2), stride=math.floor(5011199/2))"
   ]
  },
  {
   "cell_type": "markdown",
   "metadata": {
    "deletable": true,
    "editable": true
   },
   "source": [
    "The result is a dictionary that now has two keys: 'Window_1' and 'Window_2'. The values of these keys are in the same format as the previous example."
   ]
  },
  {
   "cell_type": "code",
   "execution_count": 3,
   "metadata": {
    "collapsed": false,
    "deletable": true,
    "editable": true
   },
   "outputs": [
    {
     "name": "stdout",
     "output_type": "stream",
     "text": [
      "Top 10 resolved computers for window 1:\n",
      "46     C706\n",
      "5     C1685\n",
      "7     C1707\n",
      "28    C5030\n",
      "41     C586\n",
      "3     C1065\n",
      "26     C457\n",
      "30     C528\n",
      "27     C467\n",
      "31     C529\n",
      "Name: computer_resolved, dtype: object\n",
      "Labels:\n",
      "[1 1 1 1 1 2 2 2 2 2]\n",
      "Cluster centers:\n",
      "[[-0.476392  ]\n",
      " [ 2.72032766]\n",
      " [ 0.39427485]]\n"
     ]
    }
   ],
   "source": [
    "window_1_resolved_computers, window_1_cluster_results=cluster_all_data['Window_1']\n",
    "\n",
    "print(\"Top 10 resolved computers for window 1:\")\n",
    "print(window_1_resolved_computers[0:10])\n",
    "\n",
    "window_1_labels=window_1_cluster_results.labels_\n",
    "print(\"Labels:\")\n",
    "print(window_1_labels[0:10])\n",
    "\n",
    "window_1_cluster_centers=window_1_cluster_results.cluster_centers_\n",
    "print(\"Cluster centers:\")\n",
    "print(window_1_cluster_centers)\n"
   ]
  },
  {
   "cell_type": "code",
   "execution_count": 5,
   "metadata": {
    "collapsed": false,
    "deletable": true,
    "editable": true
   },
   "outputs": [
    {
     "name": "stdout",
     "output_type": "stream",
     "text": [
      "Top 10 resolved computers for window 2:\n",
      "40     C586\n",
      "28    C5030\n",
      "6     C1707\n",
      "5     C1685\n",
      "47     C754\n",
      "1     C1025\n",
      "45     C706\n",
      "13    C2189\n",
      "2     C1065\n",
      "26     C457\n",
      "Name: computer_resolved, dtype: object\n",
      "Labels:\n",
      "[1 1 1 1 1 1 2 2 2 2]\n",
      "Cluster centers:\n",
      "[[-0.57009701]\n",
      " [ 2.4432564 ]\n",
      " [ 0.2318053 ]]\n"
     ]
    }
   ],
   "source": [
    "window_2_resolved_computers, window_2_cluster_results=cluster_all_data['Window_2']\n",
    "\n",
    "print(\"Top 10 resolved computers for window 2:\")\n",
    "print(window_2_resolved_computers[0:10])\n",
    "\n",
    "window_2_labels=window_2_cluster_results.labels_\n",
    "print(\"Labels:\")\n",
    "print(window_2_labels[0:10])\n",
    "\n",
    "window_2_cluster_centers=window_2_cluster_results.cluster_centers_\n",
    "print(\"Cluster centers:\")\n",
    "print(window_2_cluster_centers)"
   ]
  },
  {
   "cell_type": "markdown",
   "metadata": {
    "deletable": true,
    "editable": true
   },
   "source": [
    "As can be seen, there is some difference between the clusters. (Why?)"
   ]
  },
  {
   "cell_type": "markdown",
   "metadata": {
    "collapsed": true,
    "deletable": true,
    "editable": true
   },
   "source": [
    "In the final example, we will split the data into three <i>overlapping</i> windows using window_size=floor(5011199/2) and stride=floor(5011199/4)."
   ]
  },
  {
   "cell_type": "code",
   "execution_count": 2,
   "metadata": {
    "collapsed": false,
    "deletable": true,
    "editable": true
   },
   "outputs": [],
   "source": [
    "cluster_all_data=dcm.SlidingWindow(dns, window_size=math.floor(5011199/2), stride=math.floor(5011199/4))"
   ]
  },
  {
   "cell_type": "markdown",
   "metadata": {
    "deletable": true,
    "editable": true
   },
   "source": [
    "We should now have a dictionary containing three keys: 'Window_1', 'Window_2' and 'Window_3'. The results can be viewed in the same way as in the previous examples."
   ]
  },
  {
   "cell_type": "code",
   "execution_count": 4,
   "metadata": {
    "collapsed": false,
    "deletable": true,
    "editable": true
   },
   "outputs": [
    {
     "name": "stdout",
     "output_type": "stream",
     "text": [
      "Top 10 resolved computers for window 1:\n",
      "46     C706\n",
      "5     C1685\n",
      "7     C1707\n",
      "28    C5030\n",
      "41     C586\n",
      "3     C1065\n",
      "26     C457\n",
      "30     C528\n",
      "27     C467\n",
      "31     C529\n",
      "Name: computer_resolved, dtype: object\n",
      "Labels:\n",
      "[2, 2, 2, 2, 2, 1, 1, 1, 1, 1]\n",
      "Cluster centers:\n",
      "[[-0.476392  ]\n",
      " [ 2.72032766]\n",
      " [ 0.39427485]]\n"
     ]
    }
   ],
   "source": [
    "window_1_resolved_computers, window_1_cluster_results=cluster_all_data['Window_1']\n",
    "\n",
    "print(\"Top 10 resolved computers for window 1:\")\n",
    "print(window_1_resolved_computers[0:10])\n",
    "\n",
    "window_1_labels=window_1_cluster_results.labels_\n",
    "print(\"Labels:\")\n",
    "print(window_1_labels[0:10])\n",
    "\n",
    "window_1_cluster_centers=window_1_cluster_results.cluster_centers_\n",
    "print(\"Cluster centers:\")\n",
    "print(window_1_cluster_centers)"
   ]
  },
  {
   "cell_type": "code",
   "execution_count": 5,
   "metadata": {
    "collapsed": false,
    "deletable": true,
    "editable": true
   },
   "outputs": [
    {
     "name": "stdout",
     "output_type": "stream",
     "text": [
      "Top 10 resolved computers for window 2:\n",
      "40     C586\n",
      "8     C1707\n",
      "6     C1685\n",
      "28    C5030\n",
      "45     C706\n",
      "1     C1025\n",
      "47     C754\n",
      "14    C2189\n",
      "2     C1065\n",
      "30     C528\n",
      "Name: computer_resolved, dtype: object\n",
      "Labels:\n",
      "[2, 2, 2, 2, 2, 1, 1, 1, 1, 1]\n",
      "Cluster centers:\n",
      "[[ 0.41481157]\n",
      " [-0.54907453]\n",
      " [ 2.62834412]]\n"
     ]
    }
   ],
   "source": [
    "window_2_resolved_computers, window_2_cluster_results=cluster_all_data['Window_2']\n",
    "\n",
    "print(\"Top 10 resolved computers for window 2:\")\n",
    "print(window_2_resolved_computers[0:10])\n",
    "\n",
    "window_2_labels=window_2_cluster_results.labels_\n",
    "print(\"Labels:\")\n",
    "print(window_2_labels[0:10])\n",
    "\n",
    "window_2_cluster_centers=window_2_cluster_results.cluster_centers_\n",
    "print(\"Cluster centers:\")\n",
    "print(window_2_cluster_centers)"
   ]
  },
  {
   "cell_type": "code",
   "execution_count": 6,
   "metadata": {
    "collapsed": false,
    "deletable": true,
    "editable": true
   },
   "outputs": [
    {
     "name": "stdout",
     "output_type": "stream",
     "text": [
      "Top 10 resolved computers for window 3:\n",
      "40     C586\n",
      "28    C5030\n",
      "6     C1707\n",
      "5     C1685\n",
      "47     C754\n",
      "1     C1025\n",
      "45     C706\n",
      "13    C2189\n",
      "2     C1065\n",
      "26     C457\n",
      "Name: computer_resolved, dtype: object\n",
      "Labels:\n",
      "[2, 2, 2, 2, 2, 2, 1, 1, 1, 1]\n",
      "Cluster centers:\n",
      "[[ 0.23180533]\n",
      " [-0.570097  ]\n",
      " [ 2.44325628]]\n"
     ]
    }
   ],
   "source": [
    "window_3_resolved_computers, window_3_cluster_results=cluster_all_data['Window_3']\n",
    "\n",
    "print(\"Top 10 resolved computers for window 3:\")\n",
    "print(window_3_resolved_computers[0:10])\n",
    "\n",
    "window_3_labels=window_3_cluster_results.labels_\n",
    "print(\"Labels:\")\n",
    "print(window_3_labels[0:10])\n",
    "\n",
    "window_3_cluster_centers=window_3_cluster_results.cluster_centers_\n",
    "print(\"Cluster centers:\")\n",
    "print(window_3_cluster_centers)"
   ]
  },
  {
   "cell_type": "code",
   "execution_count": 3,
   "metadata": {
    "collapsed": true,
    "deletable": true,
    "editable": true
   },
   "outputs": [],
   "source": [
    "cluster_all_data=dcm.ProcessResults(cluster_all_data)"
   ]
  },
  {
   "cell_type": "code",
   "execution_count": 17,
   "metadata": {
    "collapsed": true
   },
   "outputs": [],
   "source": [
    "import pandas as pd\n",
    "import numpy as np\n",
    "import scipy.stats\n",
    "from sklearn.cluster import KMeans\n",
    "import matplotlib as mpl\n",
    "import matplotlib.pyplot as plt\n",
    "from matplotlib import colors\n",
    "from matplotlib import pyplot\n",
    "\n",
    "def PlotClusterChanges2(membership_df):\n",
    "    \n",
    "    new_array=[]\n",
    "\n",
    "    # Filter out static desktops\n",
    "    for i in range(0,np.shape(membership_df)[0]):\n",
    "        \n",
    "        if sum(list(membership_df.iloc[i,1:]))>0:\n",
    "            \n",
    "            test=membership_df.iloc[i,1:]\n",
    "            \n",
    "            new_array.append(list(test))    \n",
    "\n",
    "    data = new_array\n",
    "    \n",
    "    rows=np.shape(data)[0]\n",
    "    columns=np.shape(data)[1]\n",
    "\n",
    "    # create discrete colormap\n",
    "    cmap = colors.ListedColormap(['red', 'blue', 'green'])\n",
    "    bounds = [-0.001,0.001,1.001,2.001]\n",
    "    norm = colors.BoundaryNorm(bounds, cmap.N)\n",
    "\n",
    "    fig, ax = plt.subplots()\n",
    "    ax.imshow(data, cmap=cmap, norm=norm)\n",
    "\n",
    "    # draw gridlines\n",
    "    ax.grid(True)\n",
    "    ax.set_xticks();\n",
    "    ax.set_yticks(np.arange(0, rows, 1));\n",
    "\n",
    "    plt.show()\n",
    "    \n",
    "    return"
   ]
  },
  {
   "cell_type": "code",
   "execution_count": 18,
   "metadata": {
    "collapsed": false,
    "deletable": true,
    "editable": true
   },
   "outputs": [
    {
     "name": "stdout",
     "output_type": "stream",
     "text": [
      "Populating the interactive namespace from numpy and matplotlib\n"
     ]
    },
    {
     "name": "stderr",
     "output_type": "stream",
     "text": [
      "C:\\Users\\Greg\\AppData\\Local\\Enthought\\Canopy\\edm\\envs\\User\\lib\\site-packages\\IPython\\core\\magics\\pylab.py:161: UserWarning: pylab import has clobbered these variables: ['colors']\n",
      "`%matplotlib` prevents importing * from pylab and numpy\n",
      "  \"\\n`%matplotlib` prevents importing * from pylab and numpy\"\n"
     ]
    },
    {
     "data": {
      "image/png": "[encoded data removed]",
      "text/plain": [
       "<matplotlib.figure.Figure at 0x2cc0011ea90>"
      ]
     },
     "metadata": {},
     "output_type": "display_data"
    }
   ],
   "source": [
    "%pylab inline\n",
    "pylab.rcParams['figure.figsize'] = (100, 100)\n",
    "\n",
    "cluster_df=dcm.TrackClusterMembership(cluster_all_data)\n",
    "dcm.PlotClusterChanges2(cluster_df)"
   ]
  },
  {
   "cell_type": "markdown",
   "metadata": {
    "deletable": true,
    "editable": true
   },
   "source": [
    "That concludes the tutorial. Thank you for reading! Here are some ideas for where to go next:\n",
    "\n",
    "1) Try using more statistical features by setting use_extended_features=True for dcm.SlidingWindow.<BR>\n",
    "2) See if computers move in and out of clusters depending on the time (hint: think about it in terms of moving from a larger cluster to a smaller one, or vice versa, as the cluster numbers change from window to window).<BR>\n",
    "3) Use a different form of clustering.<BR>\n",
    "4) Explore the dcm.py file and possibly add a new function to perform a different type of analysis on the sliding windows.<BR>"
   ]
  },
  {
   "cell_type": "code",
   "execution_count": null,
   "metadata": {
    "collapsed": true,
    "deletable": true,
    "editable": true
   },
   "outputs": [],
   "source": []
  }
 ],
 "metadata": {
  "kernelspec": {
   "display_name": "Python 3",
   "language": "python",
   "name": "python3"
  },
  "language_info": {
   "codemirror_mode": {
    "name": "ipython",
    "version": 3
   },
   "file_extension": ".py",
   "mimetype": "text/x-python",
   "name": "python",
   "nbconvert_exporter": "python",
   "pygments_lexer": "ipython3",
   "version": "3.5.2"
  }
 },
 "nbformat": 4,
 "nbformat_minor": 2
}

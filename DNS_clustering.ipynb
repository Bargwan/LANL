{
 "cells": [
  {
   "cell_type": "markdown",
   "metadata": {
    "deletable": true,
    "editable": true
   },
   "source": [
    "<h1><center>DCM Module Tutorial</h1></center>\n",
    "\n",
    "This is a basic example of how to use the DCM module."
   ]
  },
  {
   "cell_type": "code",
   "execution_count": 1,
   "metadata": {
    "collapsed": true,
    "deletable": true,
    "editable": true
   },
   "outputs": [],
   "source": [
    "import pandas as pd\n",
    "import os\n",
    "import dcm\n",
    "import math\n",
    "\n",
    "path=\"F:\\\\Masters degree\\\\Capstone Project\\\\data\"\n",
    "os.chdir(path)\n",
    "\n",
    "dns_headings = ['time','source_computer','computer_resolved']\n",
    "dns = pd.read_csv('dns.txt', sep=',', header=None, names=dns_headings)"
   ]
  },
  {
   "cell_type": "markdown",
   "metadata": {
    "deletable": true,
    "editable": true
   },
   "source": [
    "First we will cluster the entire dataset using only the total number of connections for the top 50 resolved computers.\n",
    "\n",
    "The result is in the form of a dictionary containing a single key: 'Window_1'. The corresponding value is a list of the top 50 resolved computers, along with the clustering results."
   ]
  },
  {
   "cell_type": "code",
   "execution_count": 2,
   "metadata": {
    "collapsed": false,
    "deletable": true,
    "editable": true
   },
   "outputs": [],
   "source": [
    "cluster_all_data=dcm.SlidingWindow(dns)\n",
    "top50_resolved_computers, clustering_results=cluster_all_data['Window_1']"
   ]
  },
  {
   "cell_type": "markdown",
   "metadata": {
    "collapsed": true,
    "deletable": true,
    "editable": true
   },
   "source": [
    "From the clustering results, we can obtain the cluster labels for each of the listed computers, in addition to the cluster centers."
   ]
  },
  {
   "cell_type": "code",
   "execution_count": 13,
   "metadata": {
    "collapsed": false,
    "deletable": true,
    "editable": true
   },
   "outputs": [
    {
     "name": "stdout",
     "output_type": "stream",
     "text": [
      "Top 10 resolved computers:\n",
      "0       C10\n",
      "1     C1025\n",
      "2     C1065\n",
      "3     C1581\n",
      "4    C16135\n",
      "5    C16712\n",
      "6     C1685\n",
      "7     C1707\n",
      "8     C1760\n",
      "9    C18268\n",
      "Name: computer_resolved, dtype: object\n",
      "Labels:\n",
      "[0 2 2 0 0 0 1 1 0 0]\n",
      "Cluster centers:\n",
      "[[-0.53554605]\n",
      " [ 2.82316459]\n",
      " [ 0.57632562]]\n"
     ]
    }
   ],
   "source": [
    "print(\"Top 10 resolved computers:\")\n",
    "print(top50_resolved_computers[0:10])\n",
    "\n",
    "labels=clustering_results.labels_\n",
    "print(\"Labels:\")\n",
    "print(labels[0:10])\n",
    "\n",
    "cluster_centers=clustering_results.cluster_centers_\n",
    "print(\"Cluster centers:\")\n",
    "print(cluster_centers)"
   ]
  },
  {
   "cell_type": "markdown",
   "metadata": {
    "collapsed": true,
    "deletable": true,
    "editable": true
   },
   "source": [
    "By playing with window_size and stride, we can choose instead to cluster disjoint subsets of the data, or overlapping subsets of the data.\n",
    "\n",
    "The data timestamps range from 0 to 5011199. 5011199 is also the default window size. Hence the default settings (above) result in a single window - essentially performing a single cluster analysis over the entire range of time. To do an analysis on 2 equally sized, disjoint sets of the data (i.e. we split the data in half and cluster each portion), set window_size=floor(5011199/2) and set stride=floor(5011199/2). You need to manually determine the values of window_size and stride yourself, depending on the result you want."
   ]
  },
  {
   "cell_type": "code",
   "execution_count": 2,
   "metadata": {
    "collapsed": true,
    "deletable": true,
    "editable": true
   },
   "outputs": [],
   "source": [
    "cluster_all_data=dcm.SlidingWindow(dns, window_size=math.floor(5011199/2), stride=math.floor(5011199/2))"
   ]
  },
  {
   "cell_type": "markdown",
   "metadata": {
    "deletable": true,
    "editable": true
   },
   "source": [
    "The result is a dictionary that now has two keys: 'Window_1' and 'Window_2'. The values of these keys are in the same format as the previous example."
   ]
  },
  {
   "cell_type": "code",
   "execution_count": 3,
   "metadata": {
    "collapsed": false,
    "deletable": true,
    "editable": true
   },
   "outputs": [
    {
     "name": "stdout",
     "output_type": "stream",
     "text": [
      "Top 10 resolved computers for window 1:\n",
      "46     C706\n",
      "5     C1685\n",
      "7     C1707\n",
      "28    C5030\n",
      "41     C586\n",
      "3     C1065\n",
      "26     C457\n",
      "30     C528\n",
      "27     C467\n",
      "31     C529\n",
      "Name: computer_resolved, dtype: object\n",
      "Labels:\n",
      "[1 1 1 1 1 2 2 2 2 2]\n",
      "Cluster centers:\n",
      "[[-0.476392  ]\n",
      " [ 2.72032766]\n",
      " [ 0.39427485]]\n"
     ]
    }
   ],
   "source": [
    "window_1_resolved_computers, window_1_cluster_results=cluster_all_data['Window_1']\n",
    "\n",
    "print(\"Top 10 resolved computers for window 1:\")\n",
    "print(window_1_resolved_computers[0:10])\n",
    "\n",
    "window_1_labels=window_1_cluster_results.labels_\n",
    "print(\"Labels:\")\n",
    "print(window_1_labels[0:10])\n",
    "\n",
    "window_1_cluster_centers=window_1_cluster_results.cluster_centers_\n",
    "print(\"Cluster centers:\")\n",
    "print(window_1_cluster_centers)\n"
   ]
  },
  {
   "cell_type": "code",
   "execution_count": 4,
   "metadata": {
    "collapsed": false,
    "deletable": true,
    "editable": true
   },
   "outputs": [
    {
     "name": "stdout",
     "output_type": "stream",
     "text": [
      "Top 10 resolved computers for window 2:\n",
      "40     C586\n",
      "28    C5030\n",
      "6     C1707\n",
      "5     C1685\n",
      "47     C754\n",
      "1     C1025\n",
      "45     C706\n",
      "13    C2189\n",
      "2     C1065\n",
      "26     C457\n",
      "Name: computer_resolved, dtype: object\n",
      "Labels:\n",
      "[1 1 1 1 1 1 2 2 2 2]\n",
      "Cluster centers:\n",
      "[[-0.57009701]\n",
      " [ 2.4432564 ]\n",
      " [ 0.2318053 ]]\n"
     ]
    }
   ],
   "source": [
    "window_2_resolved_computers, window_2_cluster_results=cluster_all_data['Window_2']\n",
    "\n",
    "print(\"Top 10 resolved computers for window 2:\")\n",
    "print(window_2_resolved_computers[0:10])\n",
    "\n",
    "window_2_labels=window_2_cluster_results.labels_\n",
    "print(\"Labels:\")\n",
    "print(window_2_labels[0:10])\n",
    "\n",
    "window_2_cluster_centers=window_2_cluster_results.cluster_centers_\n",
    "print(\"Cluster centers:\")\n",
    "print(window_2_cluster_centers)"
   ]
  },
  {
   "cell_type": "markdown",
   "metadata": {
    "deletable": true,
    "editable": true
   },
   "source": [
    "As can be seen, there is some difference between the clusters. (Why?)"
   ]
  },
  {
   "cell_type": "markdown",
   "metadata": {
    "collapsed": true,
    "deletable": true,
    "editable": true
   },
   "source": [
    "In the final example, we will split the data into three <i>overlapping</i> windows using window_size=floor(5011199/2) and stride=floor(5011199/4)."
   ]
  },
  {
   "cell_type": "code",
   "execution_count": 5,
   "metadata": {
    "collapsed": true
   },
   "outputs": [],
   "source": [
    "cluster_all_data=dcm.SlidingWindow(dns, window_size=math.floor(5011199/2), stride=math.floor(5011199/4))"
   ]
  },
  {
   "cell_type": "markdown",
   "metadata": {},
   "source": [
    "We should now have a dictionary containing three keys: 'Window_1', 'Window_2' and 'Window_3'. The results can be viewed in the same way as in the previous examples."
   ]
  },
  {
   "cell_type": "code",
   "execution_count": 13,
   "metadata": {
    "collapsed": false
   },
   "outputs": [
    {
     "name": "stdout",
     "output_type": "stream",
     "text": [
      "Top 10 resolved computers for window 1:\n",
      "46     C706\n",
      "5     C1685\n",
      "7     C1707\n",
      "28    C5030\n",
      "41     C586\n",
      "3     C1065\n",
      "26     C457\n",
      "30     C528\n",
      "27     C467\n",
      "31     C529\n",
      "Name: computer_resolved, dtype: object\n",
      "Labels:\n",
      "[2 2 2 2 2 0 0 0 0 0]\n",
      "Cluster centers:\n",
      "[[ 0.39427485]\n",
      " [-0.476392  ]\n",
      " [ 2.72032766]]\n"
     ]
    }
   ],
   "source": [
    "window_1_resolved_computers, window_1_cluster_results=cluster_all_data['Window_1']\n",
    "\n",
    "print(\"Top 10 resolved computers for window 1:\")\n",
    "print(window_1_resolved_computers[0:10])\n",
    "\n",
    "window_1_labels=window_1_cluster_results.labels_\n",
    "print(\"Labels:\")\n",
    "print(window_1_labels[0:10])\n",
    "\n",
    "window_1_cluster_centers=window_1_cluster_results.cluster_centers_\n",
    "print(\"Cluster centers:\")\n",
    "print(window_1_cluster_centers)"
   ]
  },
  {
   "cell_type": "code",
   "execution_count": 12,
   "metadata": {
    "collapsed": false
   },
   "outputs": [
    {
     "name": "stdout",
     "output_type": "stream",
     "text": [
      "Top 10 resolved computers for window 2:\n",
      "40     C586\n",
      "8     C1707\n",
      "6     C1685\n",
      "28    C5030\n",
      "45     C706\n",
      "1     C1025\n",
      "47     C754\n",
      "14    C2189\n",
      "2     C1065\n",
      "30     C528\n",
      "Name: computer_resolved, dtype: object\n",
      "Labels:\n",
      "[1 1 1 1 1 2 2 2 2 2]\n",
      "Cluster centers:\n",
      "[[-0.54907453]\n",
      " [ 2.62834412]\n",
      " [ 0.41481157]]\n"
     ]
    }
   ],
   "source": [
    "window_2_resolved_computers, window_2_cluster_results=cluster_all_data['Window_2']\n",
    "\n",
    "print(\"Top 10 resolved computers for window 2:\")\n",
    "print(window_2_resolved_computers[0:10])\n",
    "\n",
    "window_2_labels=window_2_cluster_results.labels_\n",
    "print(\"Labels:\")\n",
    "print(window_2_labels[0:10])\n",
    "\n",
    "window_2_cluster_centers=window_2_cluster_results.cluster_centers_\n",
    "print(\"Cluster centers:\")\n",
    "print(window_2_cluster_centers)"
   ]
  },
  {
   "cell_type": "code",
   "execution_count": 11,
   "metadata": {
    "collapsed": false
   },
   "outputs": [
    {
     "name": "stdout",
     "output_type": "stream",
     "text": [
      "Top 10 resolved computers for window 3:\n",
      "40     C586\n",
      "28    C5030\n",
      "6     C1707\n",
      "5     C1685\n",
      "47     C754\n",
      "1     C1025\n",
      "45     C706\n",
      "13    C2189\n",
      "2     C1065\n",
      "26     C457\n",
      "Name: computer_resolved, dtype: object\n",
      "Labels:\n",
      "[1 1 1 1 1 1 2 2 2 2]\n",
      "Cluster centers:\n",
      "[[-0.570097  ]\n",
      " [ 2.44325628]\n",
      " [ 0.23180533]]\n"
     ]
    }
   ],
   "source": [
    "window_3_resolved_computers, window_3_cluster_results=cluster_all_data['Window_3']\n",
    "\n",
    "print(\"Top 10 resolved computers for window 3:\")\n",
    "print(window_3_resolved_computers[0:10])\n",
    "\n",
    "window_3_labels=window_3_cluster_results.labels_\n",
    "print(\"Labels:\")\n",
    "print(window_3_labels[0:10])\n",
    "\n",
    "window_3_cluster_centers=window_3_cluster_results.cluster_centers_\n",
    "print(\"Cluster centers:\")\n",
    "print(window_3_cluster_centers)"
   ]
  },
  {
   "cell_type": "markdown",
   "metadata": {},
   "source": [
    "That concludes the tutorial. Thank you for reading!"
   ]
  }
 ],
 "metadata": {
  "kernelspec": {
   "display_name": "Python 3",
   "language": "python",
   "name": "python3"
  },
  "language_info": {
   "codemirror_mode": {
    "name": "ipython",
    "version": 3
   },
   "file_extension": ".py",
   "mimetype": "text/x-python",
   "name": "python",
   "nbconvert_exporter": "python",
   "pygments_lexer": "ipython3",
   "version": "3.5.2"
  }
 },
 "nbformat": 4,
 "nbformat_minor": 2
}
